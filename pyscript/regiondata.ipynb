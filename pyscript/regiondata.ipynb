{
 "nbformat": 4,
 "nbformat_minor": 2,
 "metadata": {
  "language_info": {
   "name": "python",
   "codemirror_mode": {
    "name": "ipython",
    "version": 3
   },
   "version": "3.7.6-final"
  },
  "orig_nbformat": 2,
  "file_extension": ".py",
  "mimetype": "text/x-python",
  "name": "python",
  "npconvert_exporter": "python",
  "pygments_lexer": "ipython3",
  "version": 3,
  "kernelspec": {
   "name": "python37664bit40ccb972f06c4506ace5644e4690cca6",
   "display_name": "Python 3.7.6 64-bit"
  }
 },
 "cells": [
  {
   "cell_type": "code",
   "execution_count": 247,
   "metadata": {},
   "outputs": [],
   "source": [
    "import pandas as pd\n",
    "import glob"
   ]
  },
  {
   "cell_type": "code",
   "execution_count": 248,
   "metadata": {},
   "outputs": [],
   "source": [
    "home='../'"
   ]
  },
  {
   "cell_type": "code",
   "execution_count": 249,
   "metadata": {},
   "outputs": [],
   "source": [
    "df = pd.read_csv(home+'/COVID-19/dati-regioni/dpc-covid19-ita-regioni.csv')\n",
    "regdata = pd.read_csv(home+'/other_info/regionData.csv')"
   ]
  },
  {
   "cell_type": "code",
   "execution_count": 250,
   "metadata": {},
   "outputs": [],
   "source": [
    "files=glob.glob(home+'/addons-dati-regioni/*.csv')\n",
    "files.sort()\n",
    "\n",
    "dfs = [ pd.read_csv(f) for f in files ]"
   ]
  },
  {
   "cell_type": "code",
   "execution_count": 251,
   "metadata": {},
   "outputs": [],
   "source": [
    "df = pd.concat(dfs+[df],ignore_index=True)"
   ]
  },
  {
   "cell_type": "code",
   "execution_count": 252,
   "metadata": {},
   "outputs": [],
   "source": [
    "# rename columns\n",
    "df = df.rename(columns={\n",
    "    'stato': 'Country',\n",
    "    'codice_regione': 'Region Code',\n",
    "    'denominazione_regione': 'Region',\n",
    "    'ricoverati_con_sintomi': 'Other Hospitalized',\n",
    "    'terapia_intensiva': 'Intensive Care', \n",
    "    'totale_ospedalizzati': 'Hospitalized',\n",
    "    'isolamento_domiciliare': 'Quarantined',\n",
    "    'totale_attualmente_positivi': 'Active Cases',\n",
    "    'nuovi_attualmente_positivi': 'Daily Active Cases',\n",
    "    'dimessi_guariti': 'Recovered',\n",
    "    'deceduti': 'Deaths',\n",
    "    'totale_casi': 'Total Cases',\n",
    "    'tamponi': 'Tests'\n",
    "    })\n",
    "\n",
    "df = df.astype({\n",
    "    'Other Hospitalized':'Int32', \n",
    "    'Intensive Care':'Int32', \n",
    "    'Hospitalized':'Int32', \n",
    "    'Quarantined': 'Int32', \n",
    "    'Active Cases': 'Int32', \n",
    "    'Daily Active Cases': 'Int32', \n",
    "    'Recovered':'Int32',\n",
    "    'Deaths':'Int32',\n",
    "    'Total Cases':'Int32',\n",
    "    'Tests':'Int32'\n",
    "    })"
   ]
  },
  {
   "cell_type": "code",
   "execution_count": 253,
   "metadata": {},
   "outputs": [],
   "source": [
    "df['Last Update'] = pd.to_datetime(df['data'])\n",
    "df['Date'] = pd.to_datetime(df['data']).dt.floor('D')\n",
    ""
   ]
  },
  {
   "cell_type": "code",
   "execution_count": 254,
   "metadata": {},
   "outputs": [
    {
     "output_type": "execute_result",
     "data": {
      "text/plain": "data                          object\nCountry                       object\nRegion Code                    int64\nRegion                        object\nlat                          float64\nlong                         float64\nOther Hospitalized             Int32\nIntensive Care                 Int32\nHospitalized                   Int32\nQuarantined                    Int32\nActive Cases                   Int32\nDaily Active Cases             Int32\nRecovered                      Int32\nDeaths                         Int32\nTotal Cases                    Int32\nTests                          Int32\nnote_it                       object\nnote_en                       object\nLast Update           datetime64[ns]\nDate                  datetime64[ns]\ndtype: object"
     },
     "metadata": {},
     "execution_count": 254
    }
   ],
   "source": [
    "df.dtypes"
   ]
  },
  {
   "cell_type": "code",
   "execution_count": 255,
   "metadata": {},
   "outputs": [],
   "source": [
    "# \tPrevious Total Cases\tPrevious Total Deaths\tPrevious Total Recovered  Previous Total Tests\n",
    "prev = df[['Date','Region','Total Cases','Deaths','Recovered','Tests','Active Cases', 'Hospitalized', 'Quarantined', 'Intensive Care',  'Other Hospitalized']]\n",
    "\n",
    "prev = prev.rename(columns={'Total Cases':'Prev Total Cases', 'Deaths':'Prev Deaths', 'Recovered':'Prev Recovered', 'Tests':'Prev Tests', \\\n",
    "    'Active Cases':'Prev Active Cases', 'Hospitalized':'Prev Hospitalized', 'Quarantined':'Prev Quarantined', \\\n",
    "    'Intensive Care':'Prev Intensive Care',  'Other Hospitalized':'Prev Other Hospitalized'})\n",
    "prev['Date'] = prev['Date']+pd.to_timedelta(1,unit='D')\n",
    ""
   ]
  },
  {
   "cell_type": "code",
   "execution_count": 256,
   "metadata": {},
   "outputs": [],
   "source": [
    "prev2 = df[['Date','Region','Total Cases','Tests']]\n",
    "prev2 = prev2.rename(columns={'Total Cases':'Prev2 Total Cases', 'Tests':'Prev2 Tests'})\n",
    "prev2['Date'] = prev2['Date']+pd.to_timedelta(2,unit='D')"
   ]
  },
  {
   "cell_type": "code",
   "execution_count": 257,
   "metadata": {},
   "outputs": [],
   "source": [
    "prev3 = df[['Date','Region','Total Cases','Tests']]\n",
    "prev3 = prev3.rename(columns={'Total Cases':'Prev3 Total Cases', 'Tests':'Prev3 Tests'})\n",
    "prev3['Date'] = prev3['Date']+pd.to_timedelta(3,unit='D')"
   ]
  },
  {
   "cell_type": "code",
   "execution_count": 258,
   "metadata": {},
   "outputs": [],
   "source": [
    "merge=df.merge(prev, on=['Date','Region'], how=\"left\")\\\n",
    "    .merge(prev2, on=['Date','Region'], how=\"left\")\\\n",
    "    .merge(prev3, on=['Date','Region'], how=\"left\")\\\n",
    "    .merge(regdata, on=['Region'], how='left')\n",
    ""
   ]
  },
  {
   "cell_type": "code",
   "execution_count": 259,
   "metadata": {},
   "outputs": [],
   "source": [
    "# Daily Cases   Daily Deaths    Daily Recovered    Daily Tests  Previous Daily Cases\n",
    "merge['Daily Cases'] = merge['Total Cases'] - merge['Prev Total Cases']\n",
    "merge['Daily Deaths'] = merge['Deaths'] - merge['Prev Deaths']\n",
    "merge['Daily Recovered'] = merge['Recovered'] - merge['Prev Recovered']\n",
    "merge['Daily Tests'] = merge['Tests'] - merge['Prev Tests']\n",
    "merge['Daily Hospitalized'] = merge['Hospitalized'] - merge['Prev Hospitalized']\n",
    "merge['Daily Quarantined'] = merge['Quarantined'] - merge['Prev Quarantined']\n",
    "merge['Daily Intensive Care'] = merge['Intensive Care'] - merge['Prev Intensive Care']\n",
    "merge['Daily Other Hospitalized'] = merge['Other Hospitalized'] - merge['Prev Other Hospitalized']\n",
    "\n",
    "merge['Previous Daily Cases'] = merge['Prev Total Cases'] - merge['Prev2 Total Cases']\n",
    "\n",
    "# New cases in last 3 days  Test in last 3 days\n",
    "merge['New cases in last 3 days'] = merge['Total Cases'] - merge['Prev3 Total Cases']\n",
    "merge['Test in last 3 days'] = merge['Tests'] - merge['Prev3 Tests']\n",
    ""
   ]
  },
  {
   "cell_type": "code",
   "execution_count": 260,
   "metadata": {},
   "outputs": [],
   "source": [
    "outDF=merge[['Date', 'Country', 'Region', 'Region Code', 'lat', 'long', \\\n",
    "    'Region code', 'ISO Code', 'Map Region', 'Population', 'Area', \\\n",
    "    'Total Cases', 'Deaths', 'Recovered', 'Tests', \\\n",
    "    'Active Cases', 'Hospitalized', 'Quarantined', 'Intensive Care',  'Other Hospitalized', \\\n",
    "    'Prev Total Cases', 'Prev Deaths', 'Prev Recovered', 'Prev Tests', \\\n",
    "    'Prev Active Cases', 'Prev Hospitalized', 'Prev Quarantined', 'Prev Intensive Care',  'Prev Other Hospitalized', \\\n",
    "    'Previous Daily Cases', \\\n",
    "    'Daily Cases', 'Daily Deaths', 'Daily Recovered', 'Daily Tests', \\\n",
    "    'Daily Active Cases', 'Daily Hospitalized', 'Daily Quarantined', 'Daily Intensive Care',  'Daily Other Hospitalized', \\\n",
    "    'New cases in last 3 days', 'Test in last 3 days', \\\n",
    "    'Last Update', 'note_it', 'note_en']]"
   ]
  },
  {
   "cell_type": "code",
   "execution_count": 261,
   "metadata": {},
   "outputs": [],
   "source": [
    "outDF.to_csv(home+\"/combined/regions_ts.csv\", index=False)"
   ]
  },
  {
   "cell_type": "code",
   "execution_count": 262,
   "metadata": {},
   "outputs": [],
   "source": [
    "lastDF = outDF.loc[outDF['Date'] == outDF['Date'].max()]"
   ]
  },
  {
   "cell_type": "code",
   "execution_count": 263,
   "metadata": {},
   "outputs": [],
   "source": [
    "lastDF.to_csv(home+\"/combined/regions_last.csv\", index=False)"
   ]
  }
 ]
}
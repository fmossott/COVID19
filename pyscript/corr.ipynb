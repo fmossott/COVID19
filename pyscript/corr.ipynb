{
 "metadata": {
  "language_info": {
   "codemirror_mode": {
    "name": "ipython",
    "version": 3
   },
   "file_extension": ".py",
   "mimetype": "text/x-python",
   "name": "python",
   "nbconvert_exporter": "python",
   "pygments_lexer": "ipython3",
   "version": "3.9.1"
  },
  "orig_nbformat": 2,
  "kernelspec": {
   "name": "python391jvsc74a57bd0ac2eaa0ea0ebeafcc7822e65e46aa9d4f966f30b695406963e145ea4a91cd4fc",
   "display_name": "Python 3.9.1 64-bit ('python@3.9')"
  },
  "metadata": {
   "interpreter": {
    "hash": "ac2eaa0ea0ebeafcc7822e65e46aa9d4f966f30b695406963e145ea4a91cd4fc"
   }
  }
 },
 "nbformat": 4,
 "nbformat_minor": 2,
 "cells": [
  {
   "cell_type": "code",
   "execution_count": 3,
   "metadata": {},
   "outputs": [],
   "source": [
    "import pandas as pd\n",
    "import jinja2\n"
   ]
  },
  {
   "cell_type": "code",
   "execution_count": 4,
   "metadata": {},
   "outputs": [],
   "source": [
    "df = pd.read_csv('../combined/regions_ts')"
   ]
  },
  {
   "cell_type": "code",
   "execution_count": 5,
   "metadata": {},
   "outputs": [],
   "source": [
    "df = df[['Date','Region','Weekly Cases','Weekly Deaths']].rename(columns={'Weekly Cases': 'c','Weekly Deaths': 'd'})"
   ]
  },
  {
   "cell_type": "code",
   "execution_count": 6,
   "metadata": {},
   "outputs": [],
   "source": [
    "df=df.groupby('Date').agg('sum')"
   ]
  },
  {
   "cell_type": "code",
   "execution_count": 7,
   "metadata": {},
   "outputs": [],
   "source": [
    "for i in range(1,29):\n",
    "    l='d-'+str(i)\n",
    "    df[l]=df['d'].shift(-i)"
   ]
  },
  {
   "cell_type": "code",
   "execution_count": 20,
   "metadata": {},
   "outputs": [
    {
     "output_type": "execute_result",
     "data": {
      "text/plain": [
       "d       0.642600\n",
       "d-1     0.655132\n",
       "d-2     0.667050\n",
       "d-3     0.678221\n",
       "d-4     0.688603\n",
       "d-5     0.698123\n",
       "d-6     0.706696\n",
       "d-7     0.714360\n",
       "d-8     0.720976\n",
       "d-9     0.726387\n",
       "d-10    0.730691\n",
       "d-11    0.733840\n",
       "d-12    0.735806\n",
       "d-13    0.736618\n",
       "d-14    0.736307\n",
       "d-15    0.734868\n",
       "d-16    0.732345\n",
       "d-17    0.728717\n",
       "d-18    0.724029\n",
       "d-19    0.718358\n",
       "d-20    0.711846\n",
       "d-21    0.704478\n",
       "d-22    0.696407\n",
       "d-23    0.687634\n",
       "d-24    0.678115\n",
       "d-25    0.667939\n",
       "d-26    0.657311\n",
       "d-27    0.646248\n",
       "d-28    0.634754\n",
       "dtype: float64"
      ]
     },
     "metadata": {},
     "execution_count": 20
    }
   ],
   "source": [
    "corr= df.drop(columns='c').corrwith(df['c'])\n",
    "corr"
   ]
  },
  {
   "cell_type": "code",
   "execution_count": 21,
   "metadata": {},
   "outputs": [
    {
     "output_type": "execute_result",
     "data": {
      "text/plain": [
       "0.7366182472965082"
      ]
     },
     "metadata": {},
     "execution_count": 21
    }
   ],
   "source": [
    "corr.max()"
   ]
  },
  {
   "cell_type": "code",
   "execution_count": 22,
   "metadata": {},
   "outputs": [
    {
     "output_type": "execute_result",
     "data": {
      "text/plain": [
       "'d-13'"
      ]
     },
     "metadata": {},
     "execution_count": 22
    }
   ],
   "source": [
    "corr.idxmax()"
   ]
  },
  {
   "cell_type": "code",
   "execution_count": null,
   "metadata": {},
   "outputs": [],
   "source": []
  }
 ]
}